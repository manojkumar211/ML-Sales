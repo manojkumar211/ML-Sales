{
 "cells": [
  {
   "cell_type": "markdown",
   "id": "6c2317b4",
   "metadata": {},
   "source": [
    "# Variable:-"
   ]
  },
  {
   "cell_type": "code",
   "execution_count": 1,
   "id": "70fdaade",
   "metadata": {},
   "outputs": [],
   "source": [
    "variable1=123"
   ]
  },
  {
   "cell_type": "code",
   "execution_count": 2,
   "id": "05b34b76",
   "metadata": {},
   "outputs": [],
   "source": [
    "Variable1=865"
   ]
  },
  {
   "cell_type": "code",
   "execution_count": 3,
   "id": "ccd1a08c",
   "metadata": {},
   "outputs": [],
   "source": [
    "var2=\"Hello World\""
   ]
  },
  {
   "cell_type": "code",
   "execution_count": 4,
   "id": "0cf63c38",
   "metadata": {},
   "outputs": [],
   "source": [
    "var3=50.5"
   ]
  },
  {
   "cell_type": "code",
   "execution_count": 5,
   "id": "22bf19e7",
   "metadata": {},
   "outputs": [],
   "source": [
    "var4=True"
   ]
  },
  {
   "cell_type": "code",
   "execution_count": 6,
   "id": "cb04801d",
   "metadata": {},
   "outputs": [],
   "source": [
    "_var5=456 # Private Variable"
   ]
  },
  {
   "cell_type": "code",
   "execution_count": 7,
   "id": "3c0efc8d",
   "metadata": {},
   "outputs": [],
   "source": [
    "__var6=123 # Strongly Private Variable"
   ]
  },
  {
   "cell_type": "code",
   "execution_count": 8,
   "id": "db7a6f2b",
   "metadata": {},
   "outputs": [],
   "source": [
    "__var7__=123 # Language specific variable"
   ]
  },
  {
   "cell_type": "code",
   "execution_count": 9,
   "id": "44d6d14b",
   "metadata": {},
   "outputs": [
    {
     "data": {
      "text/plain": [
       "2654287368240"
      ]
     },
     "execution_count": 9,
     "metadata": {},
     "output_type": "execute_result"
    }
   ],
   "source": [
    "id(variable1)"
   ]
  },
  {
   "cell_type": "code",
   "execution_count": 10,
   "id": "99287349",
   "metadata": {},
   "outputs": [
    {
     "data": {
      "text/plain": [
       "2652216551216"
      ]
     },
     "execution_count": 10,
     "metadata": {},
     "output_type": "execute_result"
    }
   ],
   "source": [
    "id(Variable1)"
   ]
  },
  {
   "cell_type": "code",
   "execution_count": 11,
   "id": "e90620c2",
   "metadata": {},
   "outputs": [],
   "source": [
    "var8=125"
   ]
  },
  {
   "cell_type": "code",
   "execution_count": 12,
   "id": "9d5d4d32",
   "metadata": {},
   "outputs": [],
   "source": [
    "var9=125"
   ]
  },
  {
   "cell_type": "code",
   "execution_count": 13,
   "id": "e7b60d98",
   "metadata": {},
   "outputs": [
    {
     "data": {
      "text/plain": [
       "2654287368304"
      ]
     },
     "execution_count": 13,
     "metadata": {},
     "output_type": "execute_result"
    }
   ],
   "source": [
    "id(var8)"
   ]
  },
  {
   "cell_type": "code",
   "execution_count": 14,
   "id": "2f984390",
   "metadata": {},
   "outputs": [
    {
     "data": {
      "text/plain": [
       "2654287368304"
      ]
     },
     "execution_count": 14,
     "metadata": {},
     "output_type": "execute_result"
    }
   ],
   "source": [
    "id(var9)"
   ]
  },
  {
   "cell_type": "code",
   "execution_count": 15,
   "id": "ebf75831",
   "metadata": {},
   "outputs": [],
   "source": [
    "var10=256"
   ]
  },
  {
   "cell_type": "code",
   "execution_count": 16,
   "id": "d015a36c",
   "metadata": {},
   "outputs": [],
   "source": [
    "var11=257"
   ]
  },
  {
   "cell_type": "code",
   "execution_count": 17,
   "id": "65148a78",
   "metadata": {},
   "outputs": [],
   "source": [
    "var12=255"
   ]
  },
  {
   "cell_type": "code",
   "execution_count": 18,
   "id": "1bd14db2",
   "metadata": {},
   "outputs": [],
   "source": [
    "var13=255"
   ]
  },
  {
   "cell_type": "code",
   "execution_count": 19,
   "id": "99dc4af2",
   "metadata": {},
   "outputs": [],
   "source": [
    "var14=256"
   ]
  },
  {
   "cell_type": "code",
   "execution_count": 20,
   "id": "e0bef0a4",
   "metadata": {},
   "outputs": [],
   "source": [
    "var15=257"
   ]
  },
  {
   "cell_type": "code",
   "execution_count": 21,
   "id": "4380982b",
   "metadata": {},
   "outputs": [
    {
     "data": {
      "text/plain": [
       "2654287372496"
      ]
     },
     "execution_count": 21,
     "metadata": {},
     "output_type": "execute_result"
    }
   ],
   "source": [
    "id(var10)"
   ]
  },
  {
   "cell_type": "code",
   "execution_count": 22,
   "id": "ff8b8dc7",
   "metadata": {},
   "outputs": [
    {
     "data": {
      "text/plain": [
       "2654287372496"
      ]
     },
     "execution_count": 22,
     "metadata": {},
     "output_type": "execute_result"
    }
   ],
   "source": [
    "id(var14)"
   ]
  },
  {
   "cell_type": "code",
   "execution_count": 23,
   "id": "01109bc7",
   "metadata": {},
   "outputs": [
    {
     "data": {
      "text/plain": [
       "2652216554192"
      ]
     },
     "execution_count": 23,
     "metadata": {},
     "output_type": "execute_result"
    }
   ],
   "source": [
    "id(var11)"
   ]
  },
  {
   "cell_type": "code",
   "execution_count": 24,
   "id": "710f8a35",
   "metadata": {},
   "outputs": [
    {
     "data": {
      "text/plain": [
       "2652216551920"
      ]
     },
     "execution_count": 24,
     "metadata": {},
     "output_type": "execute_result"
    }
   ],
   "source": [
    "id(var15)"
   ]
  },
  {
   "cell_type": "code",
   "execution_count": 25,
   "id": "77591388",
   "metadata": {},
   "outputs": [
    {
     "data": {
      "text/plain": [
       "2654287372464"
      ]
     },
     "execution_count": 25,
     "metadata": {},
     "output_type": "execute_result"
    }
   ],
   "source": [
    "id(var12)"
   ]
  },
  {
   "cell_type": "code",
   "execution_count": 26,
   "id": "b406c4af",
   "metadata": {},
   "outputs": [
    {
     "data": {
      "text/plain": [
       "2654287372464"
      ]
     },
     "execution_count": 26,
     "metadata": {},
     "output_type": "execute_result"
    }
   ],
   "source": [
    "id(var13)"
   ]
  },
  {
   "cell_type": "markdown",
   "id": "7e18bc6d",
   "metadata": {},
   "source": [
    "# Input() & Output():-"
   ]
  },
  {
   "cell_type": "code",
   "execution_count": 4,
   "id": "412204e3",
   "metadata": {},
   "outputs": [],
   "source": [
    "inp1=input(\"Enter your name : \")"
   ]
  },
  {
   "cell_type": "code",
   "execution_count": 5,
   "id": "cb39e335",
   "metadata": {},
   "outputs": [
    {
     "name": "stdout",
     "output_type": "stream",
     "text": [
      "Manoj Kumar\n"
     ]
    }
   ],
   "source": [
    "print(inp1)"
   ]
  },
  {
   "cell_type": "code",
   "execution_count": 6,
   "id": "d5253ce3",
   "metadata": {},
   "outputs": [],
   "source": [
    "inp2=int(input(\"Enter how many books do you have : \"))"
   ]
  },
  {
   "cell_type": "code",
   "execution_count": 7,
   "id": "47227e8b",
   "metadata": {},
   "outputs": [
    {
     "name": "stdout",
     "output_type": "stream",
     "text": [
      "6\n"
     ]
    }
   ],
   "source": [
    "print(inp2)"
   ]
  },
  {
   "cell_type": "code",
   "execution_count": 8,
   "id": "3c4dc0aa",
   "metadata": {},
   "outputs": [],
   "source": [
    "inp3=float(input(\"Enter your salary : \"))"
   ]
  },
  {
   "cell_type": "code",
   "execution_count": 9,
   "id": "2c6a10ed",
   "metadata": {},
   "outputs": [
    {
     "name": "stdout",
     "output_type": "stream",
     "text": [
      "50000.0\n"
     ]
    }
   ],
   "source": [
    "print(inp3)"
   ]
  },
  {
   "cell_type": "code",
   "execution_count": 10,
   "id": "35c88549",
   "metadata": {},
   "outputs": [],
   "source": [
    "inp4=bool(input(\"Enter your Answer (Yes/No) : \"))"
   ]
  },
  {
   "cell_type": "code",
   "execution_count": 11,
   "id": "8586d220",
   "metadata": {},
   "outputs": [
    {
     "name": "stdout",
     "output_type": "stream",
     "text": [
      "True\n"
     ]
    }
   ],
   "source": [
    "print(inp4)"
   ]
  },
  {
   "cell_type": "code",
   "execution_count": 12,
   "id": "1949f327",
   "metadata": {},
   "outputs": [],
   "source": [
    "inp5=input(\"Enter, do you have pet (Yes/No) : \").strip()"
   ]
  },
  {
   "cell_type": "code",
   "execution_count": 13,
   "id": "0f27e732",
   "metadata": {},
   "outputs": [
    {
     "name": "stdout",
     "output_type": "stream",
     "text": [
      "No\n"
     ]
    }
   ],
   "source": [
    "print(inp5)"
   ]
  },
  {
   "cell_type": "code",
   "execution_count": 14,
   "id": "456a8bd8",
   "metadata": {},
   "outputs": [],
   "source": [
    "inp6=input(\"Enter, do you have iPhone (Yes/No) : \").lower()"
   ]
  },
  {
   "cell_type": "code",
   "execution_count": 15,
   "id": "4a91edf1",
   "metadata": {},
   "outputs": [
    {
     "name": "stdout",
     "output_type": "stream",
     "text": [
      "no\n"
     ]
    }
   ],
   "source": [
    "print(inp6)"
   ]
  },
  {
   "cell_type": "code",
   "execution_count": 16,
   "id": "8c609443",
   "metadata": {},
   "outputs": [],
   "source": [
    "inp7=list(input(\"Enter number with seperated by cama : \"))"
   ]
  },
  {
   "cell_type": "code",
   "execution_count": 17,
   "id": "e4e04f48",
   "metadata": {},
   "outputs": [
    {
     "name": "stdout",
     "output_type": "stream",
     "text": [
      "['1', ',', '2', ',', '3', ',', '4', ',', '5']\n"
     ]
    }
   ],
   "source": [
    "print(inp7)"
   ]
  },
  {
   "cell_type": "code",
   "execution_count": 18,
   "id": "aac739ea",
   "metadata": {},
   "outputs": [],
   "source": [
    "inp8=list(input(\"Enter numbers : \"))"
   ]
  },
  {
   "cell_type": "code",
   "execution_count": 19,
   "id": "d2f51711",
   "metadata": {},
   "outputs": [
    {
     "name": "stdout",
     "output_type": "stream",
     "text": [
      "['1', '2', '3', '4', '5']\n"
     ]
    }
   ],
   "source": [
    "print(inp8)"
   ]
  },
  {
   "cell_type": "code",
   "execution_count": null,
   "id": "4d0ce5e1",
   "metadata": {},
   "outputs": [],
   "source": []
  }
 ],
 "metadata": {
  "kernelspec": {
   "display_name": "Python 3",
   "language": "python",
   "name": "python3"
  },
  "language_info": {
   "codemirror_mode": {
    "name": "ipython",
    "version": 3
   },
   "file_extension": ".py",
   "mimetype": "text/x-python",
   "name": "python",
   "nbconvert_exporter": "python",
   "pygments_lexer": "ipython3",
   "version": "3.10.0"
  }
 },
 "nbformat": 4,
 "nbformat_minor": 5
}
