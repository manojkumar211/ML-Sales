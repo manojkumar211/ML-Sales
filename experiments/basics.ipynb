{
 "cells": [
  {
   "cell_type": "markdown",
   "id": "6c2317b4",
   "metadata": {},
   "source": [
    "# Variable:-"
   ]
  },
  {
   "cell_type": "code",
   "execution_count": 1,
   "id": "70fdaade",
   "metadata": {},
   "outputs": [],
   "source": [
    "variable1=123"
   ]
  },
  {
   "cell_type": "code",
   "execution_count": 2,
   "id": "05b34b76",
   "metadata": {},
   "outputs": [],
   "source": [
    "Variable1=865"
   ]
  },
  {
   "cell_type": "code",
   "execution_count": 3,
   "id": "ccd1a08c",
   "metadata": {},
   "outputs": [],
   "source": [
    "var2=\"Hello World\""
   ]
  },
  {
   "cell_type": "code",
   "execution_count": 4,
   "id": "0cf63c38",
   "metadata": {},
   "outputs": [],
   "source": [
    "var3=50.5"
   ]
  },
  {
   "cell_type": "code",
   "execution_count": 5,
   "id": "22bf19e7",
   "metadata": {},
   "outputs": [],
   "source": [
    "var4=True"
   ]
  },
  {
   "cell_type": "code",
   "execution_count": 6,
   "id": "cb04801d",
   "metadata": {},
   "outputs": [],
   "source": [
    "_var5=456 # Private Variable"
   ]
  },
  {
   "cell_type": "code",
   "execution_count": 7,
   "id": "3c0efc8d",
   "metadata": {},
   "outputs": [],
   "source": [
    "__var6=123 # Strongly Private Variable"
   ]
  },
  {
   "cell_type": "code",
   "execution_count": 8,
   "id": "db7a6f2b",
   "metadata": {},
   "outputs": [],
   "source": [
    "__var7__=123 # Language specific variable"
   ]
  },
  {
   "cell_type": "code",
   "execution_count": 9,
   "id": "44d6d14b",
   "metadata": {},
   "outputs": [
    {
     "data": {
      "text/plain": [
       "2174660579376"
      ]
     },
     "execution_count": 9,
     "metadata": {},
     "output_type": "execute_result"
    }
   ],
   "source": [
    "id(variable1)"
   ]
  },
  {
   "cell_type": "code",
   "execution_count": 10,
   "id": "99287349",
   "metadata": {},
   "outputs": [
    {
     "data": {
      "text/plain": [
       "2174737115440"
      ]
     },
     "execution_count": 10,
     "metadata": {},
     "output_type": "execute_result"
    }
   ],
   "source": [
    "id(Variable1)"
   ]
  },
  {
   "cell_type": "code",
   "execution_count": 11,
   "id": "e90620c2",
   "metadata": {},
   "outputs": [],
   "source": [
    "var8=125"
   ]
  },
  {
   "cell_type": "code",
   "execution_count": 12,
   "id": "9d5d4d32",
   "metadata": {},
   "outputs": [],
   "source": [
    "var9=125"
   ]
  },
  {
   "cell_type": "code",
   "execution_count": 13,
   "id": "e7b60d98",
   "metadata": {},
   "outputs": [
    {
     "data": {
      "text/plain": [
       "2174660579440"
      ]
     },
     "execution_count": 13,
     "metadata": {},
     "output_type": "execute_result"
    }
   ],
   "source": [
    "id(var8)"
   ]
  },
  {
   "cell_type": "code",
   "execution_count": 14,
   "id": "2f984390",
   "metadata": {},
   "outputs": [
    {
     "data": {
      "text/plain": [
       "2174660579440"
      ]
     },
     "execution_count": 14,
     "metadata": {},
     "output_type": "execute_result"
    }
   ],
   "source": [
    "id(var9)"
   ]
  },
  {
   "cell_type": "code",
   "execution_count": 15,
   "id": "ebf75831",
   "metadata": {},
   "outputs": [],
   "source": [
    "var10=256"
   ]
  },
  {
   "cell_type": "code",
   "execution_count": 16,
   "id": "d015a36c",
   "metadata": {},
   "outputs": [],
   "source": [
    "var11=257"
   ]
  },
  {
   "cell_type": "code",
   "execution_count": 17,
   "id": "65148a78",
   "metadata": {},
   "outputs": [],
   "source": [
    "var12=255"
   ]
  },
  {
   "cell_type": "code",
   "execution_count": 18,
   "id": "1bd14db2",
   "metadata": {},
   "outputs": [],
   "source": [
    "var13=255"
   ]
  },
  {
   "cell_type": "code",
   "execution_count": 19,
   "id": "99dc4af2",
   "metadata": {},
   "outputs": [],
   "source": [
    "var14=256"
   ]
  },
  {
   "cell_type": "code",
   "execution_count": 20,
   "id": "e0bef0a4",
   "metadata": {},
   "outputs": [],
   "source": [
    "var15=257"
   ]
  },
  {
   "cell_type": "code",
   "execution_count": 21,
   "id": "4380982b",
   "metadata": {},
   "outputs": [
    {
     "data": {
      "text/plain": [
       "2174660583632"
      ]
     },
     "execution_count": 21,
     "metadata": {},
     "output_type": "execute_result"
    }
   ],
   "source": [
    "id(var10)"
   ]
  },
  {
   "cell_type": "code",
   "execution_count": 22,
   "id": "ff8b8dc7",
   "metadata": {},
   "outputs": [
    {
     "data": {
      "text/plain": [
       "2174660583632"
      ]
     },
     "execution_count": 22,
     "metadata": {},
     "output_type": "execute_result"
    }
   ],
   "source": [
    "id(var14)"
   ]
  },
  {
   "cell_type": "code",
   "execution_count": 23,
   "id": "01109bc7",
   "metadata": {},
   "outputs": [
    {
     "data": {
      "text/plain": [
       "2174737117072"
      ]
     },
     "execution_count": 23,
     "metadata": {},
     "output_type": "execute_result"
    }
   ],
   "source": [
    "id(var11)"
   ]
  },
  {
   "cell_type": "code",
   "execution_count": 24,
   "id": "710f8a35",
   "metadata": {},
   "outputs": [
    {
     "data": {
      "text/plain": [
       "2174737116624"
      ]
     },
     "execution_count": 24,
     "metadata": {},
     "output_type": "execute_result"
    }
   ],
   "source": [
    "id(var15)"
   ]
  },
  {
   "cell_type": "code",
   "execution_count": 25,
   "id": "77591388",
   "metadata": {},
   "outputs": [
    {
     "data": {
      "text/plain": [
       "2174660583600"
      ]
     },
     "execution_count": 25,
     "metadata": {},
     "output_type": "execute_result"
    }
   ],
   "source": [
    "id(var12)"
   ]
  },
  {
   "cell_type": "code",
   "execution_count": 26,
   "id": "b406c4af",
   "metadata": {},
   "outputs": [
    {
     "data": {
      "text/plain": [
       "2174660583600"
      ]
     },
     "execution_count": 26,
     "metadata": {},
     "output_type": "execute_result"
    }
   ],
   "source": [
    "id(var13)"
   ]
  },
  {
   "cell_type": "markdown",
   "id": "7e18bc6d",
   "metadata": {},
   "source": [
    "# Input() & Output():-"
   ]
  },
  {
   "cell_type": "code",
   "execution_count": 27,
   "id": "412204e3",
   "metadata": {},
   "outputs": [],
   "source": [
    "inp1=input(\"Enter your name : \")"
   ]
  },
  {
   "cell_type": "code",
   "execution_count": 28,
   "id": "cb39e335",
   "metadata": {},
   "outputs": [
    {
     "name": "stdout",
     "output_type": "stream",
     "text": [
      "\"Manoj Kumar\"\n"
     ]
    }
   ],
   "source": [
    "print(inp1)"
   ]
  },
  {
   "cell_type": "code",
   "execution_count": 29,
   "id": "d5253ce3",
   "metadata": {},
   "outputs": [],
   "source": [
    "inp2=int(input(\"Enter how many books do you have : \"))"
   ]
  },
  {
   "cell_type": "code",
   "execution_count": 30,
   "id": "47227e8b",
   "metadata": {},
   "outputs": [
    {
     "name": "stdout",
     "output_type": "stream",
     "text": [
      "8\n"
     ]
    }
   ],
   "source": [
    "print(inp2)"
   ]
  },
  {
   "cell_type": "code",
   "execution_count": 31,
   "id": "3c4dc0aa",
   "metadata": {},
   "outputs": [],
   "source": [
    "inp3=float(input(\"Enter your salary : \"))"
   ]
  },
  {
   "cell_type": "code",
   "execution_count": 32,
   "id": "2c6a10ed",
   "metadata": {},
   "outputs": [
    {
     "name": "stdout",
     "output_type": "stream",
     "text": [
      "120000.0\n"
     ]
    }
   ],
   "source": [
    "print(inp3)"
   ]
  },
  {
   "cell_type": "code",
   "execution_count": 33,
   "id": "35c88549",
   "metadata": {},
   "outputs": [],
   "source": [
    "inp4=bool(input(\"Enter your Answer (Yes/No) : \"))"
   ]
  },
  {
   "cell_type": "code",
   "execution_count": 34,
   "id": "8586d220",
   "metadata": {},
   "outputs": [
    {
     "name": "stdout",
     "output_type": "stream",
     "text": [
      "True\n"
     ]
    }
   ],
   "source": [
    "print(inp4)"
   ]
  },
  {
   "cell_type": "code",
   "execution_count": 35,
   "id": "1949f327",
   "metadata": {},
   "outputs": [],
   "source": [
    "inp5=input(\"Enter, do you have pet (Yes/No) : \").strip()"
   ]
  },
  {
   "cell_type": "code",
   "execution_count": 36,
   "id": "0f27e732",
   "metadata": {},
   "outputs": [
    {
     "name": "stdout",
     "output_type": "stream",
     "text": [
      "No\n"
     ]
    }
   ],
   "source": [
    "print(inp5)"
   ]
  },
  {
   "cell_type": "code",
   "execution_count": 37,
   "id": "456a8bd8",
   "metadata": {},
   "outputs": [],
   "source": [
    "inp6=input(\"Enter, do you have iPhone (Yes/No) : \").lower()"
   ]
  },
  {
   "cell_type": "code",
   "execution_count": 38,
   "id": "4a91edf1",
   "metadata": {},
   "outputs": [
    {
     "name": "stdout",
     "output_type": "stream",
     "text": [
      "no\n"
     ]
    }
   ],
   "source": [
    "print(inp6)"
   ]
  },
  {
   "cell_type": "code",
   "execution_count": 39,
   "id": "8c609443",
   "metadata": {},
   "outputs": [],
   "source": [
    "inp7=list(input(\"Enter number with seperated by cama : \"))"
   ]
  },
  {
   "cell_type": "code",
   "execution_count": 40,
   "id": "e4e04f48",
   "metadata": {},
   "outputs": [
    {
     "name": "stdout",
     "output_type": "stream",
     "text": [
      "['1', ',', '2', ',', '3', ',', '4', ',', '5']\n"
     ]
    }
   ],
   "source": [
    "print(inp7)"
   ]
  },
  {
   "cell_type": "code",
   "execution_count": 41,
   "id": "aac739ea",
   "metadata": {},
   "outputs": [],
   "source": [
    "inp8=list(input(\"Enter numbers : \"))"
   ]
  },
  {
   "cell_type": "code",
   "execution_count": 42,
   "id": "d2f51711",
   "metadata": {},
   "outputs": [
    {
     "name": "stdout",
     "output_type": "stream",
     "text": [
      "['1', '2', '3', '4', '5']\n"
     ]
    }
   ],
   "source": [
    "print(inp8)"
   ]
  },
  {
   "cell_type": "code",
   "execution_count": 43,
   "id": "4d0ce5e1",
   "metadata": {},
   "outputs": [],
   "source": [
    "inp9=list(input(\"Enter numbers with space : \").split())"
   ]
  },
  {
   "cell_type": "code",
   "execution_count": 44,
   "id": "667d3d2c",
   "metadata": {},
   "outputs": [
    {
     "name": "stdout",
     "output_type": "stream",
     "text": [
      "['1', '2', '3', '4', '5']\n"
     ]
    }
   ],
   "source": [
    "print(inp9)"
   ]
  },
  {
   "cell_type": "code",
   "execution_count": 45,
   "id": "5aad5eeb",
   "metadata": {},
   "outputs": [],
   "source": [
    "inp10=tuple(input(\"Enter numbers with cama : \"))"
   ]
  },
  {
   "cell_type": "code",
   "execution_count": 46,
   "id": "cee612a2",
   "metadata": {},
   "outputs": [
    {
     "name": "stdout",
     "output_type": "stream",
     "text": [
      "('1', ',', '2', ',', '3', ',', '4', ',', '5')\n"
     ]
    }
   ],
   "source": [
    "print(inp10)"
   ]
  },
  {
   "cell_type": "code",
   "execution_count": 47,
   "id": "85f29492",
   "metadata": {},
   "outputs": [],
   "source": [
    "inp11=tuple(input(\"Enter numbers with space : \"))"
   ]
  },
  {
   "cell_type": "code",
   "execution_count": 48,
   "id": "dab5c92e",
   "metadata": {},
   "outputs": [
    {
     "name": "stdout",
     "output_type": "stream",
     "text": [
      "('1', ' ', '2', ' ', '3', ' ', '4', ' ', '5')\n"
     ]
    }
   ],
   "source": [
    "print(inp11)"
   ]
  },
  {
   "cell_type": "code",
   "execution_count": 49,
   "id": "2e8d3042",
   "metadata": {},
   "outputs": [],
   "source": [
    "inp12=tuple(input(\"Enter numbers : \"))"
   ]
  },
  {
   "cell_type": "code",
   "execution_count": 50,
   "id": "d4e1bffd",
   "metadata": {},
   "outputs": [
    {
     "name": "stdout",
     "output_type": "stream",
     "text": [
      "('1', '2', '3', '4', '5')\n"
     ]
    }
   ],
   "source": [
    "print(inp12)"
   ]
  },
  {
   "cell_type": "code",
   "execution_count": 51,
   "id": "ae916e4c",
   "metadata": {},
   "outputs": [],
   "source": [
    "inp13=set(input(\"Enter Numbers : \"))"
   ]
  },
  {
   "cell_type": "code",
   "execution_count": 52,
   "id": "1a213a06",
   "metadata": {},
   "outputs": [
    {
     "name": "stdout",
     "output_type": "stream",
     "text": [
      "{'4', '2', '1', '5', '3'}\n"
     ]
    }
   ],
   "source": [
    "print(inp13)"
   ]
  },
  {
   "cell_type": "code",
   "execution_count": 53,
   "id": "f26e868f",
   "metadata": {},
   "outputs": [
    {
     "name": "stdout",
     "output_type": "stream",
     "text": [
      "{'\"manoj\"': '456'}\n"
     ]
    }
   ],
   "source": [
    "inp14=input(\"Enter the values in the form of Key & Values : \")\n",
    "new_dic=[i.split(':') for i in inp14.split()]\n",
    "new_inp14=dict(new_dic)\n",
    "print(new_inp14)"
   ]
  },
  {
   "cell_type": "markdown",
   "id": "cebcd35b",
   "metadata": {},
   "source": [
    "# Recursion in Python:-"
   ]
  },
  {
   "cell_type": "code",
   "execution_count": 54,
   "id": "26f78ca0",
   "metadata": {},
   "outputs": [
    {
     "name": "stdout",
     "output_type": "stream",
     "text": [
      "120\n"
     ]
    }
   ],
   "source": [
    "def factorial(x):\n",
    "    if x==1 or x==0:\n",
    "        return 1\n",
    "    else:\n",
    "        return x*factorial(x-1)\n",
    "    \n",
    "ip=int(input(\"Enter the Factorial Number : \"))\n",
    "value=factorial(ip)\n",
    "print(value)"
   ]
  },
  {
   "cell_type": "markdown",
   "id": "d1e3d89a",
   "metadata": {},
   "source": [
    "# Data Type\n",
    "## Primitive Data Type (Fundamental Data type):-"
   ]
  },
  {
   "cell_type": "markdown",
   "id": "f787eb8d",
   "metadata": {},
   "source": [
    "### Int Datatype:-"
   ]
  },
  {
   "cell_type": "code",
   "execution_count": 55,
   "id": "ec570000",
   "metadata": {},
   "outputs": [
    {
     "data": {
      "text/plain": [
       "int"
      ]
     },
     "execution_count": 55,
     "metadata": {},
     "output_type": "execute_result"
    }
   ],
   "source": [
    "int1=10\n",
    "type(int1)"
   ]
  },
  {
   "cell_type": "code",
   "execution_count": 56,
   "id": "437ae02c",
   "metadata": {},
   "outputs": [
    {
     "data": {
      "text/plain": [
       "int"
      ]
     },
     "execution_count": 56,
     "metadata": {},
     "output_type": "execute_result"
    }
   ],
   "source": [
    "int2=-10\n",
    "type(int2)"
   ]
  },
  {
   "cell_type": "code",
   "execution_count": 57,
   "id": "2e0a9290",
   "metadata": {},
   "outputs": [
    {
     "data": {
      "text/plain": [
       "float"
      ]
     },
     "execution_count": 57,
     "metadata": {},
     "output_type": "execute_result"
    }
   ],
   "source": [
    "fint1=float(int1)\n",
    "type(fint1)"
   ]
  },
  {
   "cell_type": "code",
   "execution_count": 58,
   "id": "81b180cf",
   "metadata": {},
   "outputs": [
    {
     "data": {
      "text/plain": [
       "bool"
      ]
     },
     "execution_count": 58,
     "metadata": {},
     "output_type": "execute_result"
    }
   ],
   "source": [
    "bint1=bool(int2)\n",
    "type(bint1)"
   ]
  },
  {
   "cell_type": "code",
   "execution_count": 59,
   "id": "20734d2c",
   "metadata": {},
   "outputs": [
    {
     "data": {
      "text/plain": [
       "True"
      ]
     },
     "execution_count": 59,
     "metadata": {},
     "output_type": "execute_result"
    }
   ],
   "source": [
    "bint1"
   ]
  },
  {
   "cell_type": "code",
   "execution_count": 60,
   "id": "3a139274",
   "metadata": {},
   "outputs": [
    {
     "data": {
      "text/plain": [
       "complex"
      ]
     },
     "execution_count": 60,
     "metadata": {},
     "output_type": "execute_result"
    }
   ],
   "source": [
    "cint1=complex(int1)\n",
    "type(cint1)"
   ]
  },
  {
   "cell_type": "code",
   "execution_count": 61,
   "id": "0e2a1a9b",
   "metadata": {},
   "outputs": [
    {
     "data": {
      "text/plain": [
       "(10+0j)"
      ]
     },
     "execution_count": 61,
     "metadata": {},
     "output_type": "execute_result"
    }
   ],
   "source": [
    "cint1"
   ]
  },
  {
   "cell_type": "code",
   "execution_count": 62,
   "id": "ab744fae",
   "metadata": {},
   "outputs": [
    {
     "data": {
      "text/plain": [
       "str"
      ]
     },
     "execution_count": 62,
     "metadata": {},
     "output_type": "execute_result"
    }
   ],
   "source": [
    "sint1=str(int1)\n",
    "type(sint1)"
   ]
  },
  {
   "cell_type": "code",
   "execution_count": 63,
   "id": "ff96752b",
   "metadata": {},
   "outputs": [
    {
     "data": {
      "text/plain": [
       "'10'"
      ]
     },
     "execution_count": 63,
     "metadata": {},
     "output_type": "execute_result"
    }
   ],
   "source": [
    "sint1"
   ]
  },
  {
   "cell_type": "markdown",
   "id": "15289e58",
   "metadata": {},
   "source": [
    "### Float Datatype:-"
   ]
  },
  {
   "cell_type": "code",
   "execution_count": 64,
   "id": "324320d2",
   "metadata": {},
   "outputs": [],
   "source": [
    "flt1=10.5"
   ]
  },
  {
   "cell_type": "code",
   "execution_count": 65,
   "id": "92a11567",
   "metadata": {},
   "outputs": [],
   "source": [
    "flt2=-10.5"
   ]
  },
  {
   "cell_type": "code",
   "execution_count": 66,
   "id": "3a80c258",
   "metadata": {},
   "outputs": [
    {
     "data": {
      "text/plain": [
       "float"
      ]
     },
     "execution_count": 66,
     "metadata": {},
     "output_type": "execute_result"
    }
   ],
   "source": [
    "type(flt1)"
   ]
  },
  {
   "cell_type": "code",
   "execution_count": 67,
   "id": "dedf388e",
   "metadata": {},
   "outputs": [
    {
     "data": {
      "text/plain": [
       "float"
      ]
     },
     "execution_count": 67,
     "metadata": {},
     "output_type": "execute_result"
    }
   ],
   "source": [
    "type(flt2)"
   ]
  },
  {
   "cell_type": "code",
   "execution_count": 68,
   "id": "37284a60",
   "metadata": {},
   "outputs": [
    {
     "data": {
      "text/plain": [
       "int"
      ]
     },
     "execution_count": 68,
     "metadata": {},
     "output_type": "execute_result"
    }
   ],
   "source": [
    "iflt=int(flt1)\n",
    "type(iflt)"
   ]
  },
  {
   "cell_type": "code",
   "execution_count": 69,
   "id": "17edc2ab",
   "metadata": {},
   "outputs": [
    {
     "data": {
      "text/plain": [
       "bool"
      ]
     },
     "execution_count": 69,
     "metadata": {},
     "output_type": "execute_result"
    }
   ],
   "source": [
    "bflt=bool(flt1)\n",
    "type(bflt)"
   ]
  },
  {
   "cell_type": "code",
   "execution_count": 70,
   "id": "a5ce62a5",
   "metadata": {},
   "outputs": [
    {
     "data": {
      "text/plain": [
       "complex"
      ]
     },
     "execution_count": 70,
     "metadata": {},
     "output_type": "execute_result"
    }
   ],
   "source": [
    "cflt=complex(flt2)\n",
    "type(cflt)"
   ]
  },
  {
   "cell_type": "code",
   "execution_count": 71,
   "id": "02016f7d",
   "metadata": {},
   "outputs": [
    {
     "data": {
      "text/plain": [
       "(-10.5+0j)"
      ]
     },
     "execution_count": 71,
     "metadata": {},
     "output_type": "execute_result"
    }
   ],
   "source": [
    "cflt"
   ]
  },
  {
   "cell_type": "code",
   "execution_count": 72,
   "id": "553f6d10",
   "metadata": {},
   "outputs": [
    {
     "data": {
      "text/plain": [
       "str"
      ]
     },
     "execution_count": 72,
     "metadata": {},
     "output_type": "execute_result"
    }
   ],
   "source": [
    "sflt=str(flt1)\n",
    "type(sflt)"
   ]
  },
  {
   "cell_type": "code",
   "execution_count": 73,
   "id": "9980dc90",
   "metadata": {},
   "outputs": [
    {
     "data": {
      "text/plain": [
       "'10.5'"
      ]
     },
     "execution_count": 73,
     "metadata": {},
     "output_type": "execute_result"
    }
   ],
   "source": [
    "sflt"
   ]
  },
  {
   "cell_type": "markdown",
   "id": "019a958d",
   "metadata": {},
   "source": [
    "### Bool datatype:-"
   ]
  },
  {
   "cell_type": "code",
   "execution_count": 74,
   "id": "0a85c2c2",
   "metadata": {},
   "outputs": [],
   "source": [
    "bool1=True"
   ]
  },
  {
   "cell_type": "code",
   "execution_count": 75,
   "id": "ffc139f7",
   "metadata": {},
   "outputs": [
    {
     "data": {
      "text/plain": [
       "bool"
      ]
     },
     "execution_count": 75,
     "metadata": {},
     "output_type": "execute_result"
    }
   ],
   "source": [
    "type(bool1)"
   ]
  },
  {
   "cell_type": "code",
   "execution_count": 76,
   "id": "76086509",
   "metadata": {},
   "outputs": [],
   "source": [
    "bool2=False"
   ]
  },
  {
   "cell_type": "code",
   "execution_count": 77,
   "id": "13754464",
   "metadata": {},
   "outputs": [
    {
     "data": {
      "text/plain": [
       "bool"
      ]
     },
     "execution_count": 77,
     "metadata": {},
     "output_type": "execute_result"
    }
   ],
   "source": [
    "type(bool2)"
   ]
  },
  {
   "cell_type": "code",
   "execution_count": 78,
   "id": "f66c9e3c",
   "metadata": {},
   "outputs": [
    {
     "name": "stdout",
     "output_type": "stream",
     "text": [
      "<class 'int'>\n"
     ]
    },
    {
     "data": {
      "text/plain": [
       "1"
      ]
     },
     "execution_count": 78,
     "metadata": {},
     "output_type": "execute_result"
    }
   ],
   "source": [
    "ibl1=int(bool1)\n",
    "print(type(ibl1))\n",
    "ibl1"
   ]
  },
  {
   "cell_type": "code",
   "execution_count": 79,
   "id": "8f32e1fa",
   "metadata": {},
   "outputs": [
    {
     "name": "stdout",
     "output_type": "stream",
     "text": [
      "<class 'int'>\n"
     ]
    },
    {
     "data": {
      "text/plain": [
       "0"
      ]
     },
     "execution_count": 79,
     "metadata": {},
     "output_type": "execute_result"
    }
   ],
   "source": [
    "ibl2=int(bool2)\n",
    "print(type(ibl2))\n",
    "ibl2"
   ]
  },
  {
   "cell_type": "code",
   "execution_count": 80,
   "id": "fefe03a2",
   "metadata": {},
   "outputs": [
    {
     "name": "stdout",
     "output_type": "stream",
     "text": [
      "<class 'float'>\n"
     ]
    },
    {
     "data": {
      "text/plain": [
       "1.0"
      ]
     },
     "execution_count": 80,
     "metadata": {},
     "output_type": "execute_result"
    }
   ],
   "source": [
    "fbool1=float(bool1)\n",
    "print(type(fbool1))\n",
    "fbool1"
   ]
  },
  {
   "cell_type": "code",
   "execution_count": 81,
   "id": "32c44235",
   "metadata": {},
   "outputs": [
    {
     "name": "stdout",
     "output_type": "stream",
     "text": [
      "<class 'float'>\n"
     ]
    },
    {
     "data": {
      "text/plain": [
       "0.0"
      ]
     },
     "execution_count": 81,
     "metadata": {},
     "output_type": "execute_result"
    }
   ],
   "source": [
    "fbool2=float(bool2)\n",
    "print(type(fbool2))\n",
    "fbool2"
   ]
  },
  {
   "cell_type": "code",
   "execution_count": 82,
   "id": "d9bbfa03",
   "metadata": {},
   "outputs": [
    {
     "name": "stdout",
     "output_type": "stream",
     "text": [
      "<class 'complex'>\n"
     ]
    },
    {
     "data": {
      "text/plain": [
       "(1+0j)"
      ]
     },
     "execution_count": 82,
     "metadata": {},
     "output_type": "execute_result"
    }
   ],
   "source": [
    "cbool1=complex(bool1)\n",
    "print(type(cbool1))\n",
    "cbool1"
   ]
  },
  {
   "cell_type": "code",
   "execution_count": 83,
   "id": "17359c89",
   "metadata": {},
   "outputs": [
    {
     "name": "stdout",
     "output_type": "stream",
     "text": [
      "<class 'complex'>\n"
     ]
    },
    {
     "data": {
      "text/plain": [
       "0j"
      ]
     },
     "execution_count": 83,
     "metadata": {},
     "output_type": "execute_result"
    }
   ],
   "source": [
    "cbool2=complex(bool2)\n",
    "print(type(cbool2))\n",
    "cbool2"
   ]
  },
  {
   "cell_type": "code",
   "execution_count": 84,
   "id": "6f57d324",
   "metadata": {},
   "outputs": [
    {
     "name": "stdout",
     "output_type": "stream",
     "text": [
      "<class 'str'>\n"
     ]
    },
    {
     "data": {
      "text/plain": [
       "'True'"
      ]
     },
     "execution_count": 84,
     "metadata": {},
     "output_type": "execute_result"
    }
   ],
   "source": [
    "sbool1=str(bool1)\n",
    "print(type(sbool1))\n",
    "sbool1"
   ]
  },
  {
   "cell_type": "code",
   "execution_count": 85,
   "id": "3bba113a",
   "metadata": {},
   "outputs": [
    {
     "name": "stdout",
     "output_type": "stream",
     "text": [
      "<class 'str'>\n"
     ]
    },
    {
     "data": {
      "text/plain": [
       "'False'"
      ]
     },
     "execution_count": 85,
     "metadata": {},
     "output_type": "execute_result"
    }
   ],
   "source": [
    "sbool2=str(bool2)\n",
    "print(type(sbool2))\n",
    "sbool2"
   ]
  },
  {
   "cell_type": "markdown",
   "id": "2c225624",
   "metadata": {},
   "source": [
    "### Complex Datatype:-"
   ]
  },
  {
   "cell_type": "code",
   "execution_count": 86,
   "id": "97ea1b4a",
   "metadata": {},
   "outputs": [],
   "source": [
    "cpx1=10+5j"
   ]
  },
  {
   "cell_type": "code",
   "execution_count": 87,
   "id": "fda95ded",
   "metadata": {},
   "outputs": [
    {
     "data": {
      "text/plain": [
       "complex"
      ]
     },
     "execution_count": 87,
     "metadata": {},
     "output_type": "execute_result"
    }
   ],
   "source": [
    "type(cpx1)"
   ]
  },
  {
   "cell_type": "code",
   "execution_count": 88,
   "id": "524700e4",
   "metadata": {},
   "outputs": [],
   "source": [
    "cpx2=-10-5j"
   ]
  },
  {
   "cell_type": "code",
   "execution_count": 89,
   "id": "7d42c53f",
   "metadata": {},
   "outputs": [
    {
     "data": {
      "text/plain": [
       "complex"
      ]
     },
     "execution_count": 89,
     "metadata": {},
     "output_type": "execute_result"
    }
   ],
   "source": [
    "type(cpx2)"
   ]
  },
  {
   "cell_type": "code",
   "execution_count": 90,
   "id": "2fae62aa",
   "metadata": {},
   "outputs": [
    {
     "ename": "TypeError",
     "evalue": "int() argument must be a string, a bytes-like object or a real number, not 'complex'",
     "output_type": "error",
     "traceback": [
      "\u001b[1;31m---------------------------------------------------------------------------\u001b[0m",
      "\u001b[1;31mTypeError\u001b[0m                                 Traceback (most recent call last)",
      "Cell \u001b[1;32mIn[90], line 1\u001b[0m\n\u001b[1;32m----> 1\u001b[0m icpx\u001b[38;5;241m=\u001b[39m\u001b[38;5;28;43mint\u001b[39;49m\u001b[43m(\u001b[49m\u001b[43mcpx1\u001b[49m\u001b[43m)\u001b[49m\n",
      "\u001b[1;31mTypeError\u001b[0m: int() argument must be a string, a bytes-like object or a real number, not 'complex'"
     ]
    }
   ],
   "source": [
    "icpx=int(cpx1)"
   ]
  },
  {
   "cell_type": "code",
   "execution_count": 91,
   "id": "b17595dc",
   "metadata": {},
   "outputs": [
    {
     "ename": "TypeError",
     "evalue": "float() argument must be a string or a real number, not 'complex'",
     "output_type": "error",
     "traceback": [
      "\u001b[1;31m---------------------------------------------------------------------------\u001b[0m",
      "\u001b[1;31mTypeError\u001b[0m                                 Traceback (most recent call last)",
      "Cell \u001b[1;32mIn[91], line 1\u001b[0m\n\u001b[1;32m----> 1\u001b[0m fcpx\u001b[38;5;241m=\u001b[39m\u001b[38;5;28;43mfloat\u001b[39;49m\u001b[43m(\u001b[49m\u001b[43mcpx1\u001b[49m\u001b[43m)\u001b[49m\n",
      "\u001b[1;31mTypeError\u001b[0m: float() argument must be a string or a real number, not 'complex'"
     ]
    }
   ],
   "source": [
    "fcpx=float(cpx1)"
   ]
  },
  {
   "cell_type": "code",
   "execution_count": 92,
   "id": "285490ac",
   "metadata": {},
   "outputs": [],
   "source": [
    "bcpx=bool(cpx1)"
   ]
  },
  {
   "cell_type": "code",
   "execution_count": 93,
   "id": "44644d59",
   "metadata": {},
   "outputs": [
    {
     "data": {
      "text/plain": [
       "bool"
      ]
     },
     "execution_count": 93,
     "metadata": {},
     "output_type": "execute_result"
    }
   ],
   "source": [
    "type(bcpx)"
   ]
  },
  {
   "cell_type": "code",
   "execution_count": 94,
   "id": "c649f5ea",
   "metadata": {},
   "outputs": [
    {
     "data": {
      "text/plain": [
       "True"
      ]
     },
     "execution_count": 94,
     "metadata": {},
     "output_type": "execute_result"
    }
   ],
   "source": [
    "bcpx"
   ]
  },
  {
   "cell_type": "code",
   "execution_count": 95,
   "id": "370cc93a",
   "metadata": {},
   "outputs": [],
   "source": [
    "scpx=str(cpx1)"
   ]
  },
  {
   "cell_type": "code",
   "execution_count": 96,
   "id": "42f45747",
   "metadata": {},
   "outputs": [
    {
     "data": {
      "text/plain": [
       "str"
      ]
     },
     "execution_count": 96,
     "metadata": {},
     "output_type": "execute_result"
    }
   ],
   "source": [
    "type(scpx)"
   ]
  },
  {
   "cell_type": "markdown",
   "id": "1bc33923",
   "metadata": {},
   "source": [
    "### String Datatype:-"
   ]
  },
  {
   "cell_type": "code",
   "execution_count": 97,
   "id": "0fd6764e",
   "metadata": {},
   "outputs": [],
   "source": [
    "str1=\"Hello World\""
   ]
  },
  {
   "cell_type": "code",
   "execution_count": 98,
   "id": "303a61e8",
   "metadata": {},
   "outputs": [
    {
     "data": {
      "text/plain": [
       "str"
      ]
     },
     "execution_count": 98,
     "metadata": {},
     "output_type": "execute_result"
    }
   ],
   "source": [
    "type(str1)"
   ]
  },
  {
   "cell_type": "code",
   "execution_count": 99,
   "id": "aed3de11",
   "metadata": {},
   "outputs": [
    {
     "ename": "ValueError",
     "evalue": "invalid literal for int() with base 10: 'Hello World'",
     "output_type": "error",
     "traceback": [
      "\u001b[1;31m---------------------------------------------------------------------------\u001b[0m",
      "\u001b[1;31mValueError\u001b[0m                                Traceback (most recent call last)",
      "Cell \u001b[1;32mIn[99], line 1\u001b[0m\n\u001b[1;32m----> 1\u001b[0m istr\u001b[38;5;241m=\u001b[39m\u001b[38;5;28;43mint\u001b[39;49m\u001b[43m(\u001b[49m\u001b[43mstr1\u001b[49m\u001b[43m)\u001b[49m\n",
      "\u001b[1;31mValueError\u001b[0m: invalid literal for int() with base 10: 'Hello World'"
     ]
    }
   ],
   "source": [
    "istr=int(str1)"
   ]
  },
  {
   "cell_type": "code",
   "execution_count": 100,
   "id": "74b33b9d",
   "metadata": {},
   "outputs": [
    {
     "ename": "ValueError",
     "evalue": "could not convert string to float: 'Hello World'",
     "output_type": "error",
     "traceback": [
      "\u001b[1;31m---------------------------------------------------------------------------\u001b[0m",
      "\u001b[1;31mValueError\u001b[0m                                Traceback (most recent call last)",
      "Cell \u001b[1;32mIn[100], line 1\u001b[0m\n\u001b[1;32m----> 1\u001b[0m fstr\u001b[38;5;241m=\u001b[39m\u001b[38;5;28;43mfloat\u001b[39;49m\u001b[43m(\u001b[49m\u001b[43mstr1\u001b[49m\u001b[43m)\u001b[49m\n",
      "\u001b[1;31mValueError\u001b[0m: could not convert string to float: 'Hello World'"
     ]
    }
   ],
   "source": [
    "fstr=float(str1)"
   ]
  },
  {
   "cell_type": "code",
   "execution_count": 101,
   "id": "7c993f60",
   "metadata": {},
   "outputs": [],
   "source": [
    "bstr=bool(str1)"
   ]
  },
  {
   "cell_type": "code",
   "execution_count": 102,
   "id": "588ea550",
   "metadata": {},
   "outputs": [
    {
     "data": {
      "text/plain": [
       "bool"
      ]
     },
     "execution_count": 102,
     "metadata": {},
     "output_type": "execute_result"
    }
   ],
   "source": [
    "type(bstr)"
   ]
  },
  {
   "cell_type": "code",
   "execution_count": 103,
   "id": "4bc8e482",
   "metadata": {},
   "outputs": [
    {
     "ename": "ValueError",
     "evalue": "complex() arg is a malformed string",
     "output_type": "error",
     "traceback": [
      "\u001b[1;31m---------------------------------------------------------------------------\u001b[0m",
      "\u001b[1;31mValueError\u001b[0m                                Traceback (most recent call last)",
      "Cell \u001b[1;32mIn[103], line 1\u001b[0m\n\u001b[1;32m----> 1\u001b[0m cstr\u001b[38;5;241m=\u001b[39m\u001b[38;5;28;43mcomplex\u001b[39;49m\u001b[43m(\u001b[49m\u001b[43mstr1\u001b[49m\u001b[43m)\u001b[49m\n",
      "\u001b[1;31mValueError\u001b[0m: complex() arg is a malformed string"
     ]
    }
   ],
   "source": [
    "cstr=complex(str1)"
   ]
  },
  {
   "cell_type": "markdown",
   "id": "cb45c991",
   "metadata": {},
   "source": [
    "## Non-Primitive Datatypes (Advanced Datatypes):-"
   ]
  },
  {
   "cell_type": "markdown",
   "id": "13934f47",
   "metadata": {},
   "source": [
    "### List() :-"
   ]
  },
  {
   "cell_type": "code",
   "execution_count": 104,
   "id": "c2929c76",
   "metadata": {},
   "outputs": [],
   "source": [
    "ls1=[\"manoj\",1,2,3,10.5,True,False,5+10j,[1,5,15],(1,2,8),{8,6,\"manoj\"},{\"kumar\":456}]"
   ]
  },
  {
   "cell_type": "code",
   "execution_count": 105,
   "id": "96fafcee",
   "metadata": {},
   "outputs": [],
   "source": [
    "ls1.append(789)"
   ]
  },
  {
   "cell_type": "code",
   "execution_count": 106,
   "id": "a4f7c513",
   "metadata": {},
   "outputs": [
    {
     "data": {
      "text/plain": [
       "['manoj',\n",
       " 1,\n",
       " 2,\n",
       " 3,\n",
       " 10.5,\n",
       " True,\n",
       " False,\n",
       " (5+10j),\n",
       " [1, 5, 15],\n",
       " (1, 2, 8),\n",
       " {6, 8, 'manoj'},\n",
       " {'kumar': 456},\n",
       " 789]"
      ]
     },
     "execution_count": 106,
     "metadata": {},
     "output_type": "execute_result"
    }
   ],
   "source": [
    "ls1"
   ]
  },
  {
   "cell_type": "code",
   "execution_count": 107,
   "id": "f2b6283d",
   "metadata": {},
   "outputs": [
    {
     "data": {
      "text/plain": [
       "['manoj',\n",
       " 1,\n",
       " 2,\n",
       " 3,\n",
       " 10.5,\n",
       " True,\n",
       " False,\n",
       " (5+10j),\n",
       " [1, 5, 15],\n",
       " (1, 2, 8),\n",
       " {6, 8, 'manoj'},\n",
       " {'kumar': 456},\n",
       " 789]"
      ]
     },
     "execution_count": 107,
     "metadata": {},
     "output_type": "execute_result"
    }
   ],
   "source": [
    "ls1[::]"
   ]
  },
  {
   "cell_type": "code",
   "execution_count": 108,
   "id": "a586acd5",
   "metadata": {},
   "outputs": [
    {
     "data": {
      "text/plain": [
       "[789,\n",
       " {'kumar': 456},\n",
       " {6, 8, 'manoj'},\n",
       " (1, 2, 8),\n",
       " [1, 5, 15],\n",
       " (5+10j),\n",
       " False,\n",
       " True,\n",
       " 10.5,\n",
       " 3,\n",
       " 2,\n",
       " 1,\n",
       " 'manoj']"
      ]
     },
     "execution_count": 108,
     "metadata": {},
     "output_type": "execute_result"
    }
   ],
   "source": [
    "ls1[::-1]"
   ]
  },
  {
   "cell_type": "code",
   "execution_count": 109,
   "id": "7f72d03f",
   "metadata": {},
   "outputs": [
    {
     "data": {
      "text/plain": [
       "['manoj',\n",
       " 1,\n",
       " 2,\n",
       " 3,\n",
       " 10.5,\n",
       " True,\n",
       " False,\n",
       " (5+10j),\n",
       " [1, 5, 15],\n",
       " (1, 2, 8),\n",
       " {6, 8, 'manoj'},\n",
       " {'kumar': 456},\n",
       " 789]"
      ]
     },
     "execution_count": 109,
     "metadata": {},
     "output_type": "execute_result"
    }
   ],
   "source": [
    "ls1"
   ]
  },
  {
   "cell_type": "code",
   "execution_count": 110,
   "id": "03bf45d3",
   "metadata": {},
   "outputs": [
    {
     "data": {
      "text/plain": [
       "[789, {'kumar': 456}, {6, 8, 'manoj'}, (1, 2, 8), [1, 5, 15], (5+10j)]"
      ]
     },
     "execution_count": 110,
     "metadata": {},
     "output_type": "execute_result"
    }
   ],
   "source": [
    "ls1[:6:-1]"
   ]
  },
  {
   "cell_type": "code",
   "execution_count": 111,
   "id": "a91bd6d8",
   "metadata": {},
   "outputs": [
    {
     "data": {
      "text/plain": [
       "['manoj', 1, 2, 3, 10.5, True]"
      ]
     },
     "execution_count": 111,
     "metadata": {},
     "output_type": "execute_result"
    }
   ],
   "source": [
    "ls1[:6:1]"
   ]
  },
  {
   "cell_type": "code",
   "execution_count": 112,
   "id": "6a3c1f8e",
   "metadata": {},
   "outputs": [
    {
     "data": {
      "text/plain": [
       "[False, True, 10.5, 3]"
      ]
     },
     "execution_count": 112,
     "metadata": {},
     "output_type": "execute_result"
    }
   ],
   "source": [
    "ls1[6:2:-1]"
   ]
  },
  {
   "cell_type": "code",
   "execution_count": 113,
   "id": "554eaa5b",
   "metadata": {},
   "outputs": [
    {
     "data": {
      "text/plain": [
       "13"
      ]
     },
     "execution_count": 113,
     "metadata": {},
     "output_type": "execute_result"
    }
   ],
   "source": [
    "len(ls1)"
   ]
  },
  {
   "cell_type": "code",
   "execution_count": 114,
   "id": "78500a2b",
   "metadata": {},
   "outputs": [
    {
     "data": {
      "text/plain": [
       "[]"
      ]
     },
     "execution_count": 114,
     "metadata": {},
     "output_type": "execute_result"
    }
   ],
   "source": [
    "ls1[2:8:-1]"
   ]
  },
  {
   "cell_type": "code",
   "execution_count": 115,
   "id": "a1dfdf3a",
   "metadata": {},
   "outputs": [
    {
     "data": {
      "text/plain": [
       "[2, 3, 10.5, True, False, (5+10j)]"
      ]
     },
     "execution_count": 115,
     "metadata": {},
     "output_type": "execute_result"
    }
   ],
   "source": [
    "ls1[2:8:1]"
   ]
  },
  {
   "cell_type": "code",
   "execution_count": 116,
   "id": "77a8a2f0",
   "metadata": {},
   "outputs": [
    {
     "data": {
      "text/plain": [
       "[[1, 5, 15], (5+10j), False, True, 10.5, 3]"
      ]
     },
     "execution_count": 116,
     "metadata": {},
     "output_type": "execute_result"
    }
   ],
   "source": [
    "ls1[8:2:-1]"
   ]
  },
  {
   "cell_type": "code",
   "execution_count": 117,
   "id": "2f1a5eab",
   "metadata": {},
   "outputs": [
    {
     "data": {
      "text/plain": [
       "[]"
      ]
     },
     "execution_count": 117,
     "metadata": {},
     "output_type": "execute_result"
    }
   ],
   "source": [
    "ls1[8:2:1]"
   ]
  },
  {
   "cell_type": "code",
   "execution_count": 118,
   "id": "f1fc7c22",
   "metadata": {},
   "outputs": [],
   "source": [
    "ls2=tuple(ls1)"
   ]
  },
  {
   "cell_type": "code",
   "execution_count": 119,
   "id": "954804d3",
   "metadata": {},
   "outputs": [
    {
     "data": {
      "text/plain": [
       "('manoj',\n",
       " 1,\n",
       " 2,\n",
       " 3,\n",
       " 10.5,\n",
       " True,\n",
       " False,\n",
       " (5+10j),\n",
       " [1, 5, 15],\n",
       " (1, 2, 8),\n",
       " {6, 8, 'manoj'},\n",
       " {'kumar': 456},\n",
       " 789)"
      ]
     },
     "execution_count": 119,
     "metadata": {},
     "output_type": "execute_result"
    }
   ],
   "source": [
    "ls2"
   ]
  },
  {
   "cell_type": "code",
   "execution_count": 120,
   "id": "a225e539",
   "metadata": {},
   "outputs": [
    {
     "ename": "TypeError",
     "evalue": "unhashable type: 'list'",
     "output_type": "error",
     "traceback": [
      "\u001b[1;31m---------------------------------------------------------------------------\u001b[0m",
      "\u001b[1;31mTypeError\u001b[0m                                 Traceback (most recent call last)",
      "Cell \u001b[1;32mIn[120], line 1\u001b[0m\n\u001b[1;32m----> 1\u001b[0m ls3\u001b[38;5;241m=\u001b[39m\u001b[38;5;28;43mset\u001b[39;49m\u001b[43m(\u001b[49m\u001b[43mls1\u001b[49m\u001b[43m)\u001b[49m\n",
      "\u001b[1;31mTypeError\u001b[0m: unhashable type: 'list'"
     ]
    }
   ],
   "source": [
    "ls3=set(ls1)"
   ]
  },
  {
   "cell_type": "code",
   "execution_count": 121,
   "id": "7352479e",
   "metadata": {},
   "outputs": [],
   "source": [
    "ll=[\"manoj\",1,2,5,True,10.5,10+5j,(1,2,3),{4,5,6}]"
   ]
  },
  {
   "cell_type": "code",
   "execution_count": 122,
   "id": "a5a67736",
   "metadata": {},
   "outputs": [
    {
     "ename": "TypeError",
     "evalue": "unhashable type: 'set'",
     "output_type": "error",
     "traceback": [
      "\u001b[1;31m---------------------------------------------------------------------------\u001b[0m",
      "\u001b[1;31mTypeError\u001b[0m                                 Traceback (most recent call last)",
      "Cell \u001b[1;32mIn[122], line 1\u001b[0m\n\u001b[1;32m----> 1\u001b[0m ls4\u001b[38;5;241m=\u001b[39m\u001b[38;5;28;43mset\u001b[39;49m\u001b[43m(\u001b[49m\u001b[43mll\u001b[49m\u001b[43m)\u001b[49m\n",
      "\u001b[1;31mTypeError\u001b[0m: unhashable type: 'set'"
     ]
    }
   ],
   "source": [
    "ls4=set(ll)"
   ]
  },
  {
   "cell_type": "code",
   "execution_count": 123,
   "id": "b25e064e",
   "metadata": {},
   "outputs": [],
   "source": [
    "ll1=[\"manoj\",1,2,5,True,10.5,10+5j,(1,2,3),{\"kumar\":456}]"
   ]
  },
  {
   "cell_type": "code",
   "execution_count": 124,
   "id": "eff38917",
   "metadata": {},
   "outputs": [
    {
     "ename": "TypeError",
     "evalue": "unhashable type: 'dict'",
     "output_type": "error",
     "traceback": [
      "\u001b[1;31m---------------------------------------------------------------------------\u001b[0m",
      "\u001b[1;31mTypeError\u001b[0m                                 Traceback (most recent call last)",
      "Cell \u001b[1;32mIn[124], line 1\u001b[0m\n\u001b[1;32m----> 1\u001b[0m ls5\u001b[38;5;241m=\u001b[39m\u001b[38;5;28;43mset\u001b[39;49m\u001b[43m(\u001b[49m\u001b[43mll1\u001b[49m\u001b[43m)\u001b[49m\n",
      "\u001b[1;31mTypeError\u001b[0m: unhashable type: 'dict'"
     ]
    }
   ],
   "source": [
    "ls5=set(ll1)"
   ]
  },
  {
   "cell_type": "code",
   "execution_count": 125,
   "id": "8389e3f1",
   "metadata": {},
   "outputs": [],
   "source": [
    "ll2=[\"manoj\",1,2,5,True,10.5,10+5j,(1,2,3)]"
   ]
  },
  {
   "cell_type": "code",
   "execution_count": 126,
   "id": "8d3bf2fb",
   "metadata": {},
   "outputs": [],
   "source": [
    "ls6=set(ll2)"
   ]
  },
  {
   "cell_type": "code",
   "execution_count": 127,
   "id": "00229395",
   "metadata": {},
   "outputs": [],
   "source": [
    "ll3=[\"manoj\",1,2,5,True,10.5,10+5j,(1,2,3),[7,8,9]]"
   ]
  },
  {
   "cell_type": "code",
   "execution_count": 128,
   "id": "c8871601",
   "metadata": {},
   "outputs": [
    {
     "ename": "TypeError",
     "evalue": "unhashable type: 'list'",
     "output_type": "error",
     "traceback": [
      "\u001b[1;31m---------------------------------------------------------------------------\u001b[0m",
      "\u001b[1;31mTypeError\u001b[0m                                 Traceback (most recent call last)",
      "Cell \u001b[1;32mIn[128], line 1\u001b[0m\n\u001b[1;32m----> 1\u001b[0m ls7\u001b[38;5;241m=\u001b[39m\u001b[38;5;28;43mset\u001b[39;49m\u001b[43m(\u001b[49m\u001b[43mll3\u001b[49m\u001b[43m)\u001b[49m\n",
      "\u001b[1;31mTypeError\u001b[0m: unhashable type: 'list'"
     ]
    }
   ],
   "source": [
    "ls7=set(ll3)"
   ]
  },
  {
   "cell_type": "code",
   "execution_count": 129,
   "id": "81240d89",
   "metadata": {},
   "outputs": [],
   "source": [
    "ls8=tuple(ll3)"
   ]
  },
  {
   "cell_type": "code",
   "execution_count": 130,
   "id": "3be658bf",
   "metadata": {},
   "outputs": [
    {
     "data": {
      "text/plain": [
       "('manoj', 1, 2, 5, True, 10.5, (10+5j), (1, 2, 3), [7, 8, 9])"
      ]
     },
     "execution_count": 130,
     "metadata": {},
     "output_type": "execute_result"
    }
   ],
   "source": [
    "ls8"
   ]
  },
  {
   "cell_type": "code",
   "execution_count": 131,
   "id": "5a6e6489",
   "metadata": {},
   "outputs": [
    {
     "data": {
      "text/plain": [
       "tuple"
      ]
     },
     "execution_count": 131,
     "metadata": {},
     "output_type": "execute_result"
    }
   ],
   "source": [
    "type(ls8)"
   ]
  },
  {
   "cell_type": "markdown",
   "id": "f7f027ac",
   "metadata": {},
   "source": [
    " ### Tuple:-"
   ]
  },
  {
   "cell_type": "code",
   "execution_count": 132,
   "id": "96352b46",
   "metadata": {},
   "outputs": [],
   "source": [
    "t=(1,2,3,\"python\",10.5,5+5j,True,[1,2,3],(4,5,6),{7,8,9},{\"Ml\":123,\"DL\":456,\"AI\":789})"
   ]
  },
  {
   "cell_type": "code",
   "execution_count": 133,
   "id": "c62fd857",
   "metadata": {},
   "outputs": [
    {
     "data": {
      "text/plain": [
       "(1,\n",
       " 2,\n",
       " 3,\n",
       " 'python',\n",
       " 10.5,\n",
       " (5+5j),\n",
       " True,\n",
       " [1, 2, 3],\n",
       " (4, 5, 6),\n",
       " {7, 8, 9},\n",
       " {'Ml': 123, 'DL': 456, 'AI': 789})"
      ]
     },
     "execution_count": 133,
     "metadata": {},
     "output_type": "execute_result"
    }
   ],
   "source": [
    "t"
   ]
  },
  {
   "cell_type": "code",
   "execution_count": null,
   "id": "82ee7f0e",
   "metadata": {},
   "outputs": [],
   "source": []
  }
 ],
 "metadata": {
  "kernelspec": {
   "display_name": "Python 3",
   "language": "python",
   "name": "python3"
  },
  "language_info": {
   "codemirror_mode": {
    "name": "ipython",
    "version": 3
   },
   "file_extension": ".py",
   "mimetype": "text/x-python",
   "name": "python",
   "nbconvert_exporter": "python",
   "pygments_lexer": "ipython3",
   "version": "3.10.0"
  }
 },
 "nbformat": 4,
 "nbformat_minor": 5
}
