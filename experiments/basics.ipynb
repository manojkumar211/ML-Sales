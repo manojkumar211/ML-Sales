{
 "cells": [
  {
   "cell_type": "markdown",
   "id": "6c2317b4",
   "metadata": {},
   "source": [
    "# Variable:-"
   ]
  },
  {
   "cell_type": "code",
   "execution_count": 1,
   "id": "70fdaade",
   "metadata": {},
   "outputs": [],
   "source": [
    "variable1=123"
   ]
  },
  {
   "cell_type": "code",
   "execution_count": 2,
   "id": "05b34b76",
   "metadata": {},
   "outputs": [],
   "source": [
    "Variable1=865"
   ]
  },
  {
   "cell_type": "code",
   "execution_count": 3,
   "id": "ccd1a08c",
   "metadata": {},
   "outputs": [],
   "source": [
    "var2=\"Hello World\""
   ]
  },
  {
   "cell_type": "code",
   "execution_count": 4,
   "id": "0cf63c38",
   "metadata": {},
   "outputs": [],
   "source": [
    "var3=50.5"
   ]
  },
  {
   "cell_type": "code",
   "execution_count": 5,
   "id": "22bf19e7",
   "metadata": {},
   "outputs": [],
   "source": [
    "var4=True"
   ]
  },
  {
   "cell_type": "code",
   "execution_count": 6,
   "id": "cb04801d",
   "metadata": {},
   "outputs": [],
   "source": [
    "_var5=456 # Private Variable"
   ]
  },
  {
   "cell_type": "code",
   "execution_count": 7,
   "id": "3c0efc8d",
   "metadata": {},
   "outputs": [],
   "source": [
    "__var6=123 # Strongly Private Variable"
   ]
  },
  {
   "cell_type": "code",
   "execution_count": 8,
   "id": "db7a6f2b",
   "metadata": {},
   "outputs": [],
   "source": [
    "__var7__=123 # Language specific variable"
   ]
  },
  {
   "cell_type": "code",
   "execution_count": 9,
   "id": "44d6d14b",
   "metadata": {},
   "outputs": [
    {
     "data": {
      "text/plain": [
       "2076848295984"
      ]
     },
     "execution_count": 9,
     "metadata": {},
     "output_type": "execute_result"
    }
   ],
   "source": [
    "id(variable1)"
   ]
  },
  {
   "cell_type": "code",
   "execution_count": null,
   "id": "99287349",
   "metadata": {},
   "outputs": [],
   "source": []
  }
 ],
 "metadata": {
  "kernelspec": {
   "display_name": "Python 3",
   "language": "python",
   "name": "python3"
  },
  "language_info": {
   "codemirror_mode": {
    "name": "ipython",
    "version": 3
   },
   "file_extension": ".py",
   "mimetype": "text/x-python",
   "name": "python",
   "nbconvert_exporter": "python",
   "pygments_lexer": "ipython3",
   "version": "3.10.0"
  }
 },
 "nbformat": 4,
 "nbformat_minor": 5
}
