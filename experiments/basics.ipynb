{
 "cells": [
  {
   "cell_type": "markdown",
   "id": "6c2317b4",
   "metadata": {},
   "source": [
    "# Variable:-"
   ]
  },
  {
   "cell_type": "code",
   "execution_count": 1,
   "id": "70fdaade",
   "metadata": {},
   "outputs": [],
   "source": [
    "variable1=123"
   ]
  },
  {
   "cell_type": "code",
   "execution_count": null,
   "id": "05b34b76",
   "metadata": {},
   "outputs": [],
   "source": []
  }
 ],
 "metadata": {
  "kernelspec": {
   "display_name": "Python 3",
   "language": "python",
   "name": "python3"
  },
  "language_info": {
   "codemirror_mode": {
    "name": "ipython",
    "version": 3
   },
   "file_extension": ".py",
   "mimetype": "text/x-python",
   "name": "python",
   "nbconvert_exporter": "python",
   "pygments_lexer": "ipython3",
   "version": "3.10.0"
  }
 },
 "nbformat": 4,
 "nbformat_minor": 5
}
