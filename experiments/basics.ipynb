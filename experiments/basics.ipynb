{
 "cells": [
  {
   "cell_type": "markdown",
   "id": "6c2317b4",
   "metadata": {},
   "source": [
    "# Variable:-"
   ]
  },
  {
   "cell_type": "code",
   "execution_count": 1,
   "id": "70fdaade",
   "metadata": {},
   "outputs": [],
   "source": [
    "variable1=123"
   ]
  },
  {
   "cell_type": "code",
   "execution_count": 2,
   "id": "05b34b76",
   "metadata": {},
   "outputs": [],
   "source": [
    "Variable1=865"
   ]
  },
  {
   "cell_type": "code",
   "execution_count": 3,
   "id": "ccd1a08c",
   "metadata": {},
   "outputs": [],
   "source": [
    "var2=\"Hello World\""
   ]
  },
  {
   "cell_type": "code",
   "execution_count": 4,
   "id": "0cf63c38",
   "metadata": {},
   "outputs": [],
   "source": [
    "var3=50.5"
   ]
  },
  {
   "cell_type": "code",
   "execution_count": 5,
   "id": "22bf19e7",
   "metadata": {},
   "outputs": [],
   "source": [
    "var4=True"
   ]
  },
  {
   "cell_type": "code",
   "execution_count": 6,
   "id": "cb04801d",
   "metadata": {},
   "outputs": [],
   "source": [
    "_var5=456 # Private Variable"
   ]
  },
  {
   "cell_type": "code",
   "execution_count": 7,
   "id": "3c0efc8d",
   "metadata": {},
   "outputs": [],
   "source": [
    "__var6=123 # Strongly Private Variable"
   ]
  },
  {
   "cell_type": "code",
   "execution_count": 8,
   "id": "db7a6f2b",
   "metadata": {},
   "outputs": [],
   "source": [
    "__var7__=123 # Language specific variable"
   ]
  },
  {
   "cell_type": "code",
   "execution_count": 9,
   "id": "44d6d14b",
   "metadata": {},
   "outputs": [
    {
     "data": {
      "text/plain": [
       "2654287368240"
      ]
     },
     "execution_count": 9,
     "metadata": {},
     "output_type": "execute_result"
    }
   ],
   "source": [
    "id(variable1)"
   ]
  },
  {
   "cell_type": "code",
   "execution_count": 10,
   "id": "99287349",
   "metadata": {},
   "outputs": [
    {
     "data": {
      "text/plain": [
       "2652216551216"
      ]
     },
     "execution_count": 10,
     "metadata": {},
     "output_type": "execute_result"
    }
   ],
   "source": [
    "id(Variable1)"
   ]
  },
  {
   "cell_type": "code",
   "execution_count": 11,
   "id": "e90620c2",
   "metadata": {},
   "outputs": [],
   "source": [
    "var8=125"
   ]
  },
  {
   "cell_type": "code",
   "execution_count": 12,
   "id": "9d5d4d32",
   "metadata": {},
   "outputs": [],
   "source": [
    "var9=125"
   ]
  },
  {
   "cell_type": "code",
   "execution_count": 13,
   "id": "e7b60d98",
   "metadata": {},
   "outputs": [
    {
     "data": {
      "text/plain": [
       "2654287368304"
      ]
     },
     "execution_count": 13,
     "metadata": {},
     "output_type": "execute_result"
    }
   ],
   "source": [
    "id(var8)"
   ]
  },
  {
   "cell_type": "code",
   "execution_count": 14,
   "id": "2f984390",
   "metadata": {},
   "outputs": [
    {
     "data": {
      "text/plain": [
       "2654287368304"
      ]
     },
     "execution_count": 14,
     "metadata": {},
     "output_type": "execute_result"
    }
   ],
   "source": [
    "id(var9)"
   ]
  },
  {
   "cell_type": "code",
   "execution_count": 15,
   "id": "ebf75831",
   "metadata": {},
   "outputs": [],
   "source": [
    "var10=256"
   ]
  },
  {
   "cell_type": "code",
   "execution_count": 16,
   "id": "d015a36c",
   "metadata": {},
   "outputs": [],
   "source": [
    "var11=257"
   ]
  },
  {
   "cell_type": "code",
   "execution_count": 17,
   "id": "65148a78",
   "metadata": {},
   "outputs": [],
   "source": [
    "var12=255"
   ]
  },
  {
   "cell_type": "code",
   "execution_count": 18,
   "id": "1bd14db2",
   "metadata": {},
   "outputs": [],
   "source": [
    "var13=255"
   ]
  },
  {
   "cell_type": "code",
   "execution_count": 19,
   "id": "99dc4af2",
   "metadata": {},
   "outputs": [],
   "source": [
    "var14=256"
   ]
  },
  {
   "cell_type": "code",
   "execution_count": 20,
   "id": "e0bef0a4",
   "metadata": {},
   "outputs": [],
   "source": [
    "var15=257"
   ]
  },
  {
   "cell_type": "code",
   "execution_count": 21,
   "id": "4380982b",
   "metadata": {},
   "outputs": [
    {
     "data": {
      "text/plain": [
       "2654287372496"
      ]
     },
     "execution_count": 21,
     "metadata": {},
     "output_type": "execute_result"
    }
   ],
   "source": [
    "id(var10)"
   ]
  },
  {
   "cell_type": "code",
   "execution_count": 22,
   "id": "ff8b8dc7",
   "metadata": {},
   "outputs": [
    {
     "data": {
      "text/plain": [
       "2654287372496"
      ]
     },
     "execution_count": 22,
     "metadata": {},
     "output_type": "execute_result"
    }
   ],
   "source": [
    "id(var14)"
   ]
  },
  {
   "cell_type": "code",
   "execution_count": 23,
   "id": "01109bc7",
   "metadata": {},
   "outputs": [
    {
     "data": {
      "text/plain": [
       "2652216554192"
      ]
     },
     "execution_count": 23,
     "metadata": {},
     "output_type": "execute_result"
    }
   ],
   "source": [
    "id(var11)"
   ]
  },
  {
   "cell_type": "code",
   "execution_count": 24,
   "id": "710f8a35",
   "metadata": {},
   "outputs": [
    {
     "data": {
      "text/plain": [
       "2652216551920"
      ]
     },
     "execution_count": 24,
     "metadata": {},
     "output_type": "execute_result"
    }
   ],
   "source": [
    "id(var15)"
   ]
  },
  {
   "cell_type": "code",
   "execution_count": 25,
   "id": "77591388",
   "metadata": {},
   "outputs": [
    {
     "data": {
      "text/plain": [
       "2654287372464"
      ]
     },
     "execution_count": 25,
     "metadata": {},
     "output_type": "execute_result"
    }
   ],
   "source": [
    "id(var12)"
   ]
  },
  {
   "cell_type": "code",
   "execution_count": 26,
   "id": "b406c4af",
   "metadata": {},
   "outputs": [
    {
     "data": {
      "text/plain": [
       "2654287372464"
      ]
     },
     "execution_count": 26,
     "metadata": {},
     "output_type": "execute_result"
    }
   ],
   "source": [
    "id(var13)"
   ]
  },
  {
   "cell_type": "code",
   "execution_count": null,
   "id": "412204e3",
   "metadata": {},
   "outputs": [],
   "source": []
  }
 ],
 "metadata": {
  "kernelspec": {
   "display_name": "Python 3",
   "language": "python",
   "name": "python3"
  },
  "language_info": {
   "codemirror_mode": {
    "name": "ipython",
    "version": 3
   },
   "file_extension": ".py",
   "mimetype": "text/x-python",
   "name": "python",
   "nbconvert_exporter": "python",
   "pygments_lexer": "ipython3",
   "version": "3.10.0"
  }
 },
 "nbformat": 4,
 "nbformat_minor": 5
}
