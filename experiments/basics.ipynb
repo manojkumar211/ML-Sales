{
 "cells": [
  {
   "cell_type": "markdown",
   "id": "6c2317b4",
   "metadata": {},
   "source": [
    "# Variable:-"
   ]
  },
  {
   "cell_type": "code",
   "execution_count": 1,
   "id": "70fdaade",
   "metadata": {},
   "outputs": [],
   "source": [
    "variable1=123"
   ]
  },
  {
   "cell_type": "code",
   "execution_count": 2,
   "id": "05b34b76",
   "metadata": {},
   "outputs": [],
   "source": [
    "Variable1=865"
   ]
  },
  {
   "cell_type": "code",
   "execution_count": 3,
   "id": "ccd1a08c",
   "metadata": {},
   "outputs": [],
   "source": [
    "var2=\"Hello World\""
   ]
  },
  {
   "cell_type": "code",
   "execution_count": 4,
   "id": "0cf63c38",
   "metadata": {},
   "outputs": [],
   "source": [
    "var3=50.5"
   ]
  },
  {
   "cell_type": "code",
   "execution_count": 5,
   "id": "22bf19e7",
   "metadata": {},
   "outputs": [],
   "source": [
    "var4=True"
   ]
  },
  {
   "cell_type": "code",
   "execution_count": 6,
   "id": "cb04801d",
   "metadata": {},
   "outputs": [],
   "source": [
    "_var5=456 # Private Variable"
   ]
  },
  {
   "cell_type": "code",
   "execution_count": 7,
   "id": "3c0efc8d",
   "metadata": {},
   "outputs": [],
   "source": [
    "__var6=123 # Strongly Private Variable"
   ]
  },
  {
   "cell_type": "code",
   "execution_count": 8,
   "id": "db7a6f2b",
   "metadata": {},
   "outputs": [],
   "source": [
    "__var7__=123 # Language specific variable"
   ]
  },
  {
   "cell_type": "code",
   "execution_count": 9,
   "id": "44d6d14b",
   "metadata": {},
   "outputs": [
    {
     "data": {
      "text/plain": [
       "2872531488816"
      ]
     },
     "execution_count": 9,
     "metadata": {},
     "output_type": "execute_result"
    }
   ],
   "source": [
    "id(variable1)"
   ]
  },
  {
   "cell_type": "code",
   "execution_count": 10,
   "id": "99287349",
   "metadata": {},
   "outputs": [
    {
     "data": {
      "text/plain": [
       "2872608092080"
      ]
     },
     "execution_count": 10,
     "metadata": {},
     "output_type": "execute_result"
    }
   ],
   "source": [
    "id(Variable1)"
   ]
  },
  {
   "cell_type": "code",
   "execution_count": 11,
   "id": "e90620c2",
   "metadata": {},
   "outputs": [],
   "source": [
    "var8=125"
   ]
  },
  {
   "cell_type": "code",
   "execution_count": 12,
   "id": "9d5d4d32",
   "metadata": {},
   "outputs": [],
   "source": [
    "var9=125"
   ]
  },
  {
   "cell_type": "code",
   "execution_count": 13,
   "id": "e7b60d98",
   "metadata": {},
   "outputs": [
    {
     "data": {
      "text/plain": [
       "2872531488880"
      ]
     },
     "execution_count": 13,
     "metadata": {},
     "output_type": "execute_result"
    }
   ],
   "source": [
    "id(var8)"
   ]
  },
  {
   "cell_type": "code",
   "execution_count": 14,
   "id": "2f984390",
   "metadata": {},
   "outputs": [
    {
     "data": {
      "text/plain": [
       "2872531488880"
      ]
     },
     "execution_count": 14,
     "metadata": {},
     "output_type": "execute_result"
    }
   ],
   "source": [
    "id(var9)"
   ]
  },
  {
   "cell_type": "code",
   "execution_count": 15,
   "id": "ebf75831",
   "metadata": {},
   "outputs": [],
   "source": [
    "var10=256"
   ]
  },
  {
   "cell_type": "code",
   "execution_count": 16,
   "id": "d015a36c",
   "metadata": {},
   "outputs": [],
   "source": [
    "var11=257"
   ]
  },
  {
   "cell_type": "code",
   "execution_count": 17,
   "id": "65148a78",
   "metadata": {},
   "outputs": [],
   "source": [
    "var12=255"
   ]
  },
  {
   "cell_type": "code",
   "execution_count": 18,
   "id": "1bd14db2",
   "metadata": {},
   "outputs": [],
   "source": [
    "var13=255"
   ]
  },
  {
   "cell_type": "code",
   "execution_count": 19,
   "id": "99dc4af2",
   "metadata": {},
   "outputs": [],
   "source": [
    "var14=256"
   ]
  },
  {
   "cell_type": "code",
   "execution_count": 20,
   "id": "e0bef0a4",
   "metadata": {},
   "outputs": [],
   "source": [
    "var15=257"
   ]
  },
  {
   "cell_type": "code",
   "execution_count": 21,
   "id": "4380982b",
   "metadata": {},
   "outputs": [
    {
     "data": {
      "text/plain": [
       "2872531493072"
      ]
     },
     "execution_count": 21,
     "metadata": {},
     "output_type": "execute_result"
    }
   ],
   "source": [
    "id(var10)"
   ]
  },
  {
   "cell_type": "code",
   "execution_count": 22,
   "id": "ff8b8dc7",
   "metadata": {},
   "outputs": [
    {
     "data": {
      "text/plain": [
       "2872531493072"
      ]
     },
     "execution_count": 22,
     "metadata": {},
     "output_type": "execute_result"
    }
   ],
   "source": [
    "id(var14)"
   ]
  },
  {
   "cell_type": "code",
   "execution_count": 23,
   "id": "01109bc7",
   "metadata": {},
   "outputs": [
    {
     "data": {
      "text/plain": [
       "2872608092368"
      ]
     },
     "execution_count": 23,
     "metadata": {},
     "output_type": "execute_result"
    }
   ],
   "source": [
    "id(var11)"
   ]
  },
  {
   "cell_type": "code",
   "execution_count": 24,
   "id": "710f8a35",
   "metadata": {},
   "outputs": [
    {
     "data": {
      "text/plain": [
       "2872608090320"
      ]
     },
     "execution_count": 24,
     "metadata": {},
     "output_type": "execute_result"
    }
   ],
   "source": [
    "id(var15)"
   ]
  },
  {
   "cell_type": "code",
   "execution_count": 25,
   "id": "77591388",
   "metadata": {},
   "outputs": [
    {
     "data": {
      "text/plain": [
       "2872531493040"
      ]
     },
     "execution_count": 25,
     "metadata": {},
     "output_type": "execute_result"
    }
   ],
   "source": [
    "id(var12)"
   ]
  },
  {
   "cell_type": "code",
   "execution_count": 26,
   "id": "b406c4af",
   "metadata": {},
   "outputs": [
    {
     "data": {
      "text/plain": [
       "2872531493040"
      ]
     },
     "execution_count": 26,
     "metadata": {},
     "output_type": "execute_result"
    }
   ],
   "source": [
    "id(var13)"
   ]
  },
  {
   "cell_type": "markdown",
   "id": "7e18bc6d",
   "metadata": {},
   "source": [
    "# Input() & Output():-"
   ]
  },
  {
   "cell_type": "code",
   "execution_count": 27,
   "id": "412204e3",
   "metadata": {},
   "outputs": [],
   "source": [
    "inp1=input(\"Enter your name : \")"
   ]
  },
  {
   "cell_type": "code",
   "execution_count": 28,
   "id": "cb39e335",
   "metadata": {},
   "outputs": [
    {
     "name": "stdout",
     "output_type": "stream",
     "text": [
      "manoj kumar\n"
     ]
    }
   ],
   "source": [
    "print(inp1)"
   ]
  },
  {
   "cell_type": "code",
   "execution_count": 29,
   "id": "d5253ce3",
   "metadata": {},
   "outputs": [],
   "source": [
    "inp2=int(input(\"Enter how many books do you have : \"))"
   ]
  },
  {
   "cell_type": "code",
   "execution_count": 30,
   "id": "47227e8b",
   "metadata": {},
   "outputs": [
    {
     "name": "stdout",
     "output_type": "stream",
     "text": [
      "6\n"
     ]
    }
   ],
   "source": [
    "print(inp2)"
   ]
  },
  {
   "cell_type": "code",
   "execution_count": 31,
   "id": "3c4dc0aa",
   "metadata": {},
   "outputs": [],
   "source": [
    "inp3=float(input(\"Enter your salary : \"))"
   ]
  },
  {
   "cell_type": "code",
   "execution_count": 32,
   "id": "2c6a10ed",
   "metadata": {},
   "outputs": [
    {
     "name": "stdout",
     "output_type": "stream",
     "text": [
      "80000.0\n"
     ]
    }
   ],
   "source": [
    "print(inp3)"
   ]
  },
  {
   "cell_type": "code",
   "execution_count": 33,
   "id": "35c88549",
   "metadata": {},
   "outputs": [],
   "source": [
    "inp4=bool(input(\"Enter your Answer (Yes/No) : \"))"
   ]
  },
  {
   "cell_type": "code",
   "execution_count": 34,
   "id": "8586d220",
   "metadata": {},
   "outputs": [
    {
     "name": "stdout",
     "output_type": "stream",
     "text": [
      "True\n"
     ]
    }
   ],
   "source": [
    "print(inp4)"
   ]
  },
  {
   "cell_type": "code",
   "execution_count": 35,
   "id": "1949f327",
   "metadata": {},
   "outputs": [],
   "source": [
    "inp5=input(\"Enter, do you have pet (Yes/No) : \").strip()"
   ]
  },
  {
   "cell_type": "code",
   "execution_count": 36,
   "id": "0f27e732",
   "metadata": {},
   "outputs": [
    {
     "name": "stdout",
     "output_type": "stream",
     "text": [
      "No\n"
     ]
    }
   ],
   "source": [
    "print(inp5)"
   ]
  },
  {
   "cell_type": "code",
   "execution_count": 37,
   "id": "456a8bd8",
   "metadata": {},
   "outputs": [],
   "source": [
    "inp6=input(\"Enter, do you have iPhone (Yes/No) : \").lower()"
   ]
  },
  {
   "cell_type": "code",
   "execution_count": 38,
   "id": "4a91edf1",
   "metadata": {},
   "outputs": [
    {
     "name": "stdout",
     "output_type": "stream",
     "text": [
      "no\n"
     ]
    }
   ],
   "source": [
    "print(inp6)"
   ]
  },
  {
   "cell_type": "code",
   "execution_count": 39,
   "id": "8c609443",
   "metadata": {},
   "outputs": [],
   "source": [
    "inp7=list(input(\"Enter number with seperated by cama : \"))"
   ]
  },
  {
   "cell_type": "code",
   "execution_count": 40,
   "id": "e4e04f48",
   "metadata": {},
   "outputs": [
    {
     "name": "stdout",
     "output_type": "stream",
     "text": [
      "['1', ',', '2', ',', '3', ',', '4', ',', '5']\n"
     ]
    }
   ],
   "source": [
    "print(inp7)"
   ]
  },
  {
   "cell_type": "code",
   "execution_count": 41,
   "id": "aac739ea",
   "metadata": {},
   "outputs": [],
   "source": [
    "inp8=list(input(\"Enter numbers : \"))"
   ]
  },
  {
   "cell_type": "code",
   "execution_count": 42,
   "id": "d2f51711",
   "metadata": {},
   "outputs": [
    {
     "name": "stdout",
     "output_type": "stream",
     "text": [
      "['1', '2', '3', '4', '5']\n"
     ]
    }
   ],
   "source": [
    "print(inp8)"
   ]
  },
  {
   "cell_type": "code",
   "execution_count": 43,
   "id": "4d0ce5e1",
   "metadata": {},
   "outputs": [],
   "source": [
    "inp9=list(input(\"Enter numbers with space : \").split())"
   ]
  },
  {
   "cell_type": "code",
   "execution_count": 44,
   "id": "667d3d2c",
   "metadata": {},
   "outputs": [
    {
     "name": "stdout",
     "output_type": "stream",
     "text": [
      "['1', '2', '3', '4', '5']\n"
     ]
    }
   ],
   "source": [
    "print(inp9)"
   ]
  },
  {
   "cell_type": "code",
   "execution_count": 45,
   "id": "5aad5eeb",
   "metadata": {},
   "outputs": [],
   "source": [
    "inp10=tuple(input(\"Enter numbers with cama : \"))"
   ]
  },
  {
   "cell_type": "code",
   "execution_count": 46,
   "id": "cee612a2",
   "metadata": {},
   "outputs": [
    {
     "name": "stdout",
     "output_type": "stream",
     "text": [
      "('1', ',', '2', ',', '3', ',', '4', ',', '5')\n"
     ]
    }
   ],
   "source": [
    "print(inp10)"
   ]
  },
  {
   "cell_type": "code",
   "execution_count": 47,
   "id": "85f29492",
   "metadata": {},
   "outputs": [],
   "source": [
    "inp11=tuple(input(\"Enter numbers with space : \"))"
   ]
  },
  {
   "cell_type": "code",
   "execution_count": 48,
   "id": "dab5c92e",
   "metadata": {},
   "outputs": [
    {
     "name": "stdout",
     "output_type": "stream",
     "text": [
      "('1', ' ', '2', ' ', '3', ' ', '4', ' ', '5')\n"
     ]
    }
   ],
   "source": [
    "print(inp11)"
   ]
  },
  {
   "cell_type": "code",
   "execution_count": 49,
   "id": "2e8d3042",
   "metadata": {},
   "outputs": [],
   "source": [
    "inp12=tuple(input(\"Enter numbers : \"))"
   ]
  },
  {
   "cell_type": "code",
   "execution_count": 50,
   "id": "d4e1bffd",
   "metadata": {},
   "outputs": [
    {
     "name": "stdout",
     "output_type": "stream",
     "text": [
      "('1', '2', '3', '4', '5')\n"
     ]
    }
   ],
   "source": [
    "print(inp12)"
   ]
  },
  {
   "cell_type": "code",
   "execution_count": 51,
   "id": "ae916e4c",
   "metadata": {},
   "outputs": [],
   "source": [
    "inp13=set(input(\"Enter Numbers : \"))"
   ]
  },
  {
   "cell_type": "code",
   "execution_count": 52,
   "id": "1a213a06",
   "metadata": {},
   "outputs": [
    {
     "name": "stdout",
     "output_type": "stream",
     "text": [
      "{'5', '4', '2', '1', '3'}\n"
     ]
    }
   ],
   "source": [
    "print(inp13)"
   ]
  },
  {
   "cell_type": "code",
   "execution_count": 53,
   "id": "f26e868f",
   "metadata": {},
   "outputs": [
    {
     "name": "stdout",
     "output_type": "stream",
     "text": [
      "{'\"manoj\"': '789'}\n"
     ]
    }
   ],
   "source": [
    "inp14=input(\"Enter the values in the form of Key & Values : \")\n",
    "new_dic=[i.split(':') for i in inp14.split()]\n",
    "new_inp14=dict(new_dic)\n",
    "print(new_inp14)"
   ]
  },
  {
   "cell_type": "markdown",
   "id": "cebcd35b",
   "metadata": {},
   "source": [
    "# Recursion in Python:-"
   ]
  },
  {
   "cell_type": "code",
   "execution_count": 54,
   "id": "26f78ca0",
   "metadata": {},
   "outputs": [
    {
     "name": "stdout",
     "output_type": "stream",
     "text": [
      "120\n"
     ]
    }
   ],
   "source": [
    "def factorial(x):\n",
    "    if x==1 or x==0:\n",
    "        return 1\n",
    "    else:\n",
    "        return x*factorial(x-1)\n",
    "    \n",
    "ip=int(input(\"Enter the Number : \"))\n",
    "value=factorial(ip)\n",
    "print(value)"
   ]
  },
  {
   "cell_type": "markdown",
   "id": "d1e3d89a",
   "metadata": {},
   "source": [
    "# Data Type\n",
    "## Primitive Data Type (Fundamental Data type):-"
   ]
  },
  {
   "cell_type": "markdown",
   "id": "f787eb8d",
   "metadata": {},
   "source": [
    "### Int Datatype:-"
   ]
  },
  {
   "cell_type": "code",
   "execution_count": 56,
   "id": "ec570000",
   "metadata": {},
   "outputs": [
    {
     "data": {
      "text/plain": [
       "int"
      ]
     },
     "execution_count": 56,
     "metadata": {},
     "output_type": "execute_result"
    }
   ],
   "source": [
    "int1=10\n",
    "type(int1)"
   ]
  },
  {
   "cell_type": "code",
   "execution_count": 57,
   "id": "437ae02c",
   "metadata": {},
   "outputs": [
    {
     "data": {
      "text/plain": [
       "int"
      ]
     },
     "execution_count": 57,
     "metadata": {},
     "output_type": "execute_result"
    }
   ],
   "source": [
    "int2=-10\n",
    "type(int2)"
   ]
  },
  {
   "cell_type": "code",
   "execution_count": 58,
   "id": "2e0a9290",
   "metadata": {},
   "outputs": [
    {
     "data": {
      "text/plain": [
       "float"
      ]
     },
     "execution_count": 58,
     "metadata": {},
     "output_type": "execute_result"
    }
   ],
   "source": [
    "fint1=float(int1)\n",
    "type(fint1)"
   ]
  },
  {
   "cell_type": "code",
   "execution_count": 59,
   "id": "81b180cf",
   "metadata": {},
   "outputs": [
    {
     "data": {
      "text/plain": [
       "bool"
      ]
     },
     "execution_count": 59,
     "metadata": {},
     "output_type": "execute_result"
    }
   ],
   "source": [
    "bint1=bool(int2)\n",
    "type(bint1)"
   ]
  },
  {
   "cell_type": "code",
   "execution_count": 60,
   "id": "20734d2c",
   "metadata": {},
   "outputs": [
    {
     "data": {
      "text/plain": [
       "True"
      ]
     },
     "execution_count": 60,
     "metadata": {},
     "output_type": "execute_result"
    }
   ],
   "source": [
    "bint1"
   ]
  },
  {
   "cell_type": "code",
   "execution_count": 61,
   "id": "3a139274",
   "metadata": {},
   "outputs": [
    {
     "data": {
      "text/plain": [
       "complex"
      ]
     },
     "execution_count": 61,
     "metadata": {},
     "output_type": "execute_result"
    }
   ],
   "source": [
    "cint1=complex(int1)\n",
    "type(cint1)"
   ]
  },
  {
   "cell_type": "code",
   "execution_count": 62,
   "id": "0e2a1a9b",
   "metadata": {},
   "outputs": [
    {
     "data": {
      "text/plain": [
       "(10+0j)"
      ]
     },
     "execution_count": 62,
     "metadata": {},
     "output_type": "execute_result"
    }
   ],
   "source": [
    "cint1"
   ]
  },
  {
   "cell_type": "code",
   "execution_count": 63,
   "id": "ab744fae",
   "metadata": {},
   "outputs": [
    {
     "data": {
      "text/plain": [
       "str"
      ]
     },
     "execution_count": 63,
     "metadata": {},
     "output_type": "execute_result"
    }
   ],
   "source": [
    "sint1=str(int1)\n",
    "type(sint1)"
   ]
  },
  {
   "cell_type": "code",
   "execution_count": 64,
   "id": "ff96752b",
   "metadata": {},
   "outputs": [
    {
     "data": {
      "text/plain": [
       "'10'"
      ]
     },
     "execution_count": 64,
     "metadata": {},
     "output_type": "execute_result"
    }
   ],
   "source": [
    "sint1"
   ]
  },
  {
   "cell_type": "markdown",
   "id": "15289e58",
   "metadata": {},
   "source": [
    "### Float Datatype:-"
   ]
  },
  {
   "cell_type": "code",
   "execution_count": 65,
   "id": "324320d2",
   "metadata": {},
   "outputs": [],
   "source": [
    "flt1=10.5"
   ]
  },
  {
   "cell_type": "code",
   "execution_count": 66,
   "id": "92a11567",
   "metadata": {},
   "outputs": [],
   "source": [
    "flt2=-10.5"
   ]
  },
  {
   "cell_type": "code",
   "execution_count": 67,
   "id": "3a80c258",
   "metadata": {},
   "outputs": [
    {
     "data": {
      "text/plain": [
       "float"
      ]
     },
     "execution_count": 67,
     "metadata": {},
     "output_type": "execute_result"
    }
   ],
   "source": [
    "type(flt1)"
   ]
  },
  {
   "cell_type": "code",
   "execution_count": 68,
   "id": "dedf388e",
   "metadata": {},
   "outputs": [
    {
     "data": {
      "text/plain": [
       "float"
      ]
     },
     "execution_count": 68,
     "metadata": {},
     "output_type": "execute_result"
    }
   ],
   "source": [
    "type(flt2)"
   ]
  },
  {
   "cell_type": "code",
   "execution_count": 69,
   "id": "37284a60",
   "metadata": {},
   "outputs": [
    {
     "data": {
      "text/plain": [
       "int"
      ]
     },
     "execution_count": 69,
     "metadata": {},
     "output_type": "execute_result"
    }
   ],
   "source": [
    "iflt=int(flt1)\n",
    "type(iflt)"
   ]
  },
  {
   "cell_type": "code",
   "execution_count": 70,
   "id": "17edc2ab",
   "metadata": {},
   "outputs": [
    {
     "data": {
      "text/plain": [
       "bool"
      ]
     },
     "execution_count": 70,
     "metadata": {},
     "output_type": "execute_result"
    }
   ],
   "source": [
    "bflt=bool(flt1)\n",
    "type(bflt)"
   ]
  },
  {
   "cell_type": "code",
   "execution_count": 71,
   "id": "a5ce62a5",
   "metadata": {},
   "outputs": [
    {
     "data": {
      "text/plain": [
       "complex"
      ]
     },
     "execution_count": 71,
     "metadata": {},
     "output_type": "execute_result"
    }
   ],
   "source": [
    "cflt=complex(flt2)\n",
    "type(cflt)"
   ]
  },
  {
   "cell_type": "code",
   "execution_count": null,
   "id": "02016f7d",
   "metadata": {},
   "outputs": [],
   "source": []
  }
 ],
 "metadata": {
  "kernelspec": {
   "display_name": "Python 3",
   "language": "python",
   "name": "python3"
  },
  "language_info": {
   "codemirror_mode": {
    "name": "ipython",
    "version": 3
   },
   "file_extension": ".py",
   "mimetype": "text/x-python",
   "name": "python",
   "nbconvert_exporter": "python",
   "pygments_lexer": "ipython3",
   "version": "3.10.0"
  }
 },
 "nbformat": 4,
 "nbformat_minor": 5
}
